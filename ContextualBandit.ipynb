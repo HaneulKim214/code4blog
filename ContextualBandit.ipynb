{
 "cells": [
  {
   "cell_type": "code",
   "execution_count": 1,
   "id": "heated-greeting",
   "metadata": {},
   "outputs": [],
   "source": [
    "import collections\n",
    "import itertools\n",
    "import json\n",
    "import numpy as np\n",
    "import os\n",
    "import pandas as pd\n",
    "import plotly.graph_objects as go\n",
    "import re\n",
    "\n",
    "from nltk.stem import PorterStemmer"
   ]
  },
  {
   "cell_type": "markdown",
   "id": "progressive-springer",
   "metadata": {},
   "source": [
    "# Introduction\n",
    "\n",
    "<b> Goal: for each user, recommend restaurants using Contextual Bandit. </b>\n",
    "\n",
    "1. Create supervised ML model that predicts Click/No Click\n",
    "2. with % of Click for multiple recommendations, dynamically pick one using Thompson Sampling"
   ]
  },
  {
   "cell_type": "markdown",
   "id": "processed-setup",
   "metadata": {},
   "source": [
    "# Data Extraction & Cleansing"
   ]
  },
  {
   "cell_type": "markdown",
   "id": "flexible-skill",
   "metadata": {},
   "source": [
    "Yelp data from: <a href=\"https://www.kaggle.com/yelp-dataset/yelp-dataset\">Kaggle yelp dataset</a>"
   ]
  },
  {
   "cell_type": "code",
   "execution_count": 2,
   "id": "parallel-pollution",
   "metadata": {},
   "outputs": [],
   "source": [
    "def json2df(fjson):\n",
    "    data = []\n",
    "    for line in fjson:\n",
    "        data.append(json.loads(line))\n",
    "    return pd.DataFrame(data)"
   ]
  },
  {
   "cell_type": "code",
   "execution_count": 20,
   "id": "seventh-mouth",
   "metadata": {},
   "outputs": [],
   "source": [
    "business_df = json2df(open(f\"data/yelp/yelp_academic_dataset_business.json\"))\n",
    "checkin_df = json2df(open(f\"data/yelp/yelp_academic_dataset_checkin.json\"))\n",
    "tip_df = json2df(open(f\"data/yelp/yelp_academic_dataset_tip.json\"))\n",
    "user_df = json2df(open(f\"data/yelp/yelp_academic_dataset_user.json\"))"
   ]
  },
  {
   "cell_type": "code",
   "execution_count": 23,
   "id": "formal-shoot",
   "metadata": {},
   "outputs": [
    {
     "data": {
      "text/plain": [
       "user_id                object\n",
       "name                   object\n",
       "review_count            int64\n",
       "yelping_since          object\n",
       "useful                  int64\n",
       "funny                   int64\n",
       "cool                    int64\n",
       "elite                  object\n",
       "friends                object\n",
       "fans                    int64\n",
       "average_stars         float64\n",
       "compliment_hot          int64\n",
       "compliment_more         int64\n",
       "compliment_profile      int64\n",
       "compliment_cute         int64\n",
       "compliment_list         int64\n",
       "compliment_note         int64\n",
       "compliment_plain        int64\n",
       "compliment_cool         int64\n",
       "compliment_funny        int64\n",
       "compliment_writer       int64\n",
       "compliment_photos       int64\n",
       "dtype: object"
      ]
     },
     "execution_count": 23,
     "metadata": {},
     "output_type": "execute_result"
    }
   ],
   "source": [
    "user_df.dtypes"
   ]
  },
  {
   "cell_type": "code",
   "execution_count": 22,
   "id": "exterior-wildlife",
   "metadata": {},
   "outputs": [
    {
     "data": {
      "text/plain": [
       "Index(['user_id', 'name', 'review_count', 'yelping_since', 'useful', 'funny',\n",
       "       'cool', 'elite', 'friends', 'fans', 'average_stars', 'compliment_hot',\n",
       "       'compliment_more', 'compliment_profile', 'compliment_cute',\n",
       "       'compliment_list', 'compliment_note', 'compliment_plain',\n",
       "       'compliment_cool', 'compliment_funny', 'compliment_writer',\n",
       "       'compliment_photos'],\n",
       "      dtype='object')"
      ]
     },
     "execution_count": 22,
     "metadata": {},
     "output_type": "execute_result"
    }
   ],
   "source": [
    "user_df.columns"
   ]
  },
  {
   "cell_type": "code",
   "execution_count": null,
   "id": "opposed-brighton",
   "metadata": {},
   "outputs": [],
   "source": [
    "(user_df\n",
    "    .drop(columns=[\"name\", ])\n",
    ")"
   ]
  },
  {
   "cell_type": "code",
   "execution_count": 21,
   "id": "convertible-appeal",
   "metadata": {},
   "outputs": [
    {
     "data": {
      "text/html": [
       "<div>\n",
       "<style scoped>\n",
       "    .dataframe tbody tr th:only-of-type {\n",
       "        vertical-align: middle;\n",
       "    }\n",
       "\n",
       "    .dataframe tbody tr th {\n",
       "        vertical-align: top;\n",
       "    }\n",
       "\n",
       "    .dataframe thead th {\n",
       "        text-align: right;\n",
       "    }\n",
       "</style>\n",
       "<table border=\"1\" class=\"dataframe\">\n",
       "  <thead>\n",
       "    <tr style=\"text-align: right;\">\n",
       "      <th></th>\n",
       "      <th>user_id</th>\n",
       "      <th>name</th>\n",
       "      <th>review_count</th>\n",
       "      <th>yelping_since</th>\n",
       "      <th>useful</th>\n",
       "      <th>funny</th>\n",
       "      <th>cool</th>\n",
       "      <th>elite</th>\n",
       "      <th>friends</th>\n",
       "      <th>fans</th>\n",
       "      <th>...</th>\n",
       "      <th>compliment_more</th>\n",
       "      <th>compliment_profile</th>\n",
       "      <th>compliment_cute</th>\n",
       "      <th>compliment_list</th>\n",
       "      <th>compliment_note</th>\n",
       "      <th>compliment_plain</th>\n",
       "      <th>compliment_cool</th>\n",
       "      <th>compliment_funny</th>\n",
       "      <th>compliment_writer</th>\n",
       "      <th>compliment_photos</th>\n",
       "    </tr>\n",
       "  </thead>\n",
       "  <tbody>\n",
       "    <tr>\n",
       "      <th>0</th>\n",
       "      <td>q_QQ5kBBwlCcbL1s4NVK3g</td>\n",
       "      <td>Jane</td>\n",
       "      <td>1220</td>\n",
       "      <td>2005-03-14 20:26:35</td>\n",
       "      <td>15038</td>\n",
       "      <td>10030</td>\n",
       "      <td>11291</td>\n",
       "      <td>2006,2007,2008,2009,2010,2011,2012,2013,2014</td>\n",
       "      <td>xBDpTUbai0DXrvxCe3X16Q, 7GPNBO496aecrjJfW6UWtg...</td>\n",
       "      <td>1357</td>\n",
       "      <td>...</td>\n",
       "      <td>163</td>\n",
       "      <td>190</td>\n",
       "      <td>361</td>\n",
       "      <td>147</td>\n",
       "      <td>1212</td>\n",
       "      <td>5691</td>\n",
       "      <td>2541</td>\n",
       "      <td>2541</td>\n",
       "      <td>815</td>\n",
       "      <td>323</td>\n",
       "    </tr>\n",
       "    <tr>\n",
       "      <th>1</th>\n",
       "      <td>dIIKEfOgo0KqUfGQvGikPg</td>\n",
       "      <td>Gabi</td>\n",
       "      <td>2136</td>\n",
       "      <td>2007-08-10 19:01:51</td>\n",
       "      <td>21272</td>\n",
       "      <td>10289</td>\n",
       "      <td>18046</td>\n",
       "      <td>2007,2008,2009,2010,2011,2012,2013,2014,2015,2...</td>\n",
       "      <td>XPzYf9_mwG2eXYP2BAGSTA, 2LooM5dcIk2o01nftYdPIg...</td>\n",
       "      <td>1025</td>\n",
       "      <td>...</td>\n",
       "      <td>87</td>\n",
       "      <td>94</td>\n",
       "      <td>232</td>\n",
       "      <td>96</td>\n",
       "      <td>1187</td>\n",
       "      <td>3293</td>\n",
       "      <td>2205</td>\n",
       "      <td>2205</td>\n",
       "      <td>472</td>\n",
       "      <td>294</td>\n",
       "    </tr>\n",
       "    <tr>\n",
       "      <th>2</th>\n",
       "      <td>D6ErcUnFALnCQN4b1W_TlA</td>\n",
       "      <td>Jason</td>\n",
       "      <td>119</td>\n",
       "      <td>2007-02-07 15:47:53</td>\n",
       "      <td>188</td>\n",
       "      <td>128</td>\n",
       "      <td>130</td>\n",
       "      <td>2010,2011</td>\n",
       "      <td>GfB6sC4NJQvSI2ewbQrDNA, jhZtzZNNZJOU2YSZ6jPlXQ...</td>\n",
       "      <td>16</td>\n",
       "      <td>...</td>\n",
       "      <td>1</td>\n",
       "      <td>3</td>\n",
       "      <td>0</td>\n",
       "      <td>0</td>\n",
       "      <td>5</td>\n",
       "      <td>20</td>\n",
       "      <td>31</td>\n",
       "      <td>31</td>\n",
       "      <td>3</td>\n",
       "      <td>1</td>\n",
       "    </tr>\n",
       "    <tr>\n",
       "      <th>3</th>\n",
       "      <td>JnPIjvC0cmooNDfsa9BmXg</td>\n",
       "      <td>Kat</td>\n",
       "      <td>987</td>\n",
       "      <td>2009-02-09 16:14:29</td>\n",
       "      <td>7234</td>\n",
       "      <td>4722</td>\n",
       "      <td>4035</td>\n",
       "      <td>2009,2010,2011,2012,2013,2014</td>\n",
       "      <td>HQZPQhKMwRAyS6BCselVWQ, kP2U1s_sjQfHO9grxiyDTA...</td>\n",
       "      <td>420</td>\n",
       "      <td>...</td>\n",
       "      <td>129</td>\n",
       "      <td>93</td>\n",
       "      <td>219</td>\n",
       "      <td>90</td>\n",
       "      <td>1120</td>\n",
       "      <td>4510</td>\n",
       "      <td>1566</td>\n",
       "      <td>1566</td>\n",
       "      <td>391</td>\n",
       "      <td>326</td>\n",
       "    </tr>\n",
       "    <tr>\n",
       "      <th>4</th>\n",
       "      <td>37Hc8hr3cw0iHLoPzLK6Ow</td>\n",
       "      <td>Christine</td>\n",
       "      <td>495</td>\n",
       "      <td>2008-03-03 04:57:05</td>\n",
       "      <td>1577</td>\n",
       "      <td>727</td>\n",
       "      <td>1124</td>\n",
       "      <td>2009,2010,2011</td>\n",
       "      <td>-Q88pZUcrfN0BLBDp-bkAQ, etPn4Pv1Gc4cRZjRgB_BOw...</td>\n",
       "      <td>47</td>\n",
       "      <td>...</td>\n",
       "      <td>19</td>\n",
       "      <td>32</td>\n",
       "      <td>16</td>\n",
       "      <td>15</td>\n",
       "      <td>77</td>\n",
       "      <td>131</td>\n",
       "      <td>310</td>\n",
       "      <td>310</td>\n",
       "      <td>98</td>\n",
       "      <td>44</td>\n",
       "    </tr>\n",
       "  </tbody>\n",
       "</table>\n",
       "<p>5 rows × 22 columns</p>\n",
       "</div>"
      ],
      "text/plain": [
       "                  user_id       name  review_count        yelping_since  \\\n",
       "0  q_QQ5kBBwlCcbL1s4NVK3g       Jane          1220  2005-03-14 20:26:35   \n",
       "1  dIIKEfOgo0KqUfGQvGikPg       Gabi          2136  2007-08-10 19:01:51   \n",
       "2  D6ErcUnFALnCQN4b1W_TlA      Jason           119  2007-02-07 15:47:53   \n",
       "3  JnPIjvC0cmooNDfsa9BmXg        Kat           987  2009-02-09 16:14:29   \n",
       "4  37Hc8hr3cw0iHLoPzLK6Ow  Christine           495  2008-03-03 04:57:05   \n",
       "\n",
       "   useful  funny   cool                                              elite  \\\n",
       "0   15038  10030  11291       2006,2007,2008,2009,2010,2011,2012,2013,2014   \n",
       "1   21272  10289  18046  2007,2008,2009,2010,2011,2012,2013,2014,2015,2...   \n",
       "2     188    128    130                                          2010,2011   \n",
       "3    7234   4722   4035                      2009,2010,2011,2012,2013,2014   \n",
       "4    1577    727   1124                                     2009,2010,2011   \n",
       "\n",
       "                                             friends  fans  ...  \\\n",
       "0  xBDpTUbai0DXrvxCe3X16Q, 7GPNBO496aecrjJfW6UWtg...  1357  ...   \n",
       "1  XPzYf9_mwG2eXYP2BAGSTA, 2LooM5dcIk2o01nftYdPIg...  1025  ...   \n",
       "2  GfB6sC4NJQvSI2ewbQrDNA, jhZtzZNNZJOU2YSZ6jPlXQ...    16  ...   \n",
       "3  HQZPQhKMwRAyS6BCselVWQ, kP2U1s_sjQfHO9grxiyDTA...   420  ...   \n",
       "4  -Q88pZUcrfN0BLBDp-bkAQ, etPn4Pv1Gc4cRZjRgB_BOw...    47  ...   \n",
       "\n",
       "   compliment_more  compliment_profile  compliment_cute  compliment_list  \\\n",
       "0              163                 190              361              147   \n",
       "1               87                  94              232               96   \n",
       "2                1                   3                0                0   \n",
       "3              129                  93              219               90   \n",
       "4               19                  32               16               15   \n",
       "\n",
       "   compliment_note  compliment_plain  compliment_cool  compliment_funny  \\\n",
       "0             1212              5691             2541              2541   \n",
       "1             1187              3293             2205              2205   \n",
       "2                5                20               31                31   \n",
       "3             1120              4510             1566              1566   \n",
       "4               77               131              310               310   \n",
       "\n",
       "   compliment_writer  compliment_photos  \n",
       "0                815                323  \n",
       "1                472                294  \n",
       "2                  3                  1  \n",
       "3                391                326  \n",
       "4                 98                 44  \n",
       "\n",
       "[5 rows x 22 columns]"
      ]
     },
     "execution_count": 21,
     "metadata": {},
     "output_type": "execute_result"
    }
   ],
   "source": [
    "user_df.head()"
   ]
  },
  {
   "cell_type": "markdown",
   "id": "combined-thomson",
   "metadata": {},
   "source": [
    "----"
   ]
  },
  {
   "cell_type": "code",
   "execution_count": 5,
   "id": "waiting-capacity",
   "metadata": {
    "scrolled": true
   },
   "outputs": [],
   "source": [
    "def preprocess(df):\n",
    "    return (df.astype({\"name\":\"category\", \"address\":\"category\", \"city\":\"category\", \"state\":\"category\"\n",
    "                      })\n",
    "              .rename(columns={\"date\":\"chkin_date\"})\n",
    "              .dropna(subset=[\"categories\"])\n",
    "            )\n",
    "bs_df = pd.merge(business_df, checkin_df, how=\"left\", on=\"business_id\")\n",
    "bs_df = preprocess(bs_df)"
   ]
  },
  {
   "cell_type": "code",
   "execution_count": 6,
   "id": "excess-narrow",
   "metadata": {},
   "outputs": [],
   "source": [
    "def nlp_word(word):\n",
    "    \"\"\"\n",
    "    Perform nlp techniques to given word\n",
    "    \n",
    "    Parameters\n",
    "    ----------\n",
    "    word : str\n",
    "    \"\"\"\n",
    "    word = word.strip().lower()\n",
    "    word = stem(word)\n",
    "    \n",
    "    return word\n",
    "\n",
    "\n",
    "def stem(word):\n",
    "    \"\"\"\n",
    "    Reduce word to their root\n",
    "    ex: running -> run\n",
    "    \"\"\"\n",
    "    ps = PorterStemmer()\n",
    "    return ps.stem(word)\n",
    "\n",
    "cat_counter = collections.Counter(itertools.chain.from_iterable(c.split(\",\") for c in bs_df[\"categories\"]))\n",
    "word_cnt_df = pd.DataFrame.from_dict(cat_counter, orient=\"index\") \\\n",
    "                          .rename(columns={0:\"num_occ\"})\n",
    "word_cnt_df.sort_values(\"num_occ\", ascending=False, inplace=True)"
   ]
  },
  {
   "cell_type": "code",
   "execution_count": null,
   "id": "chinese-trail",
   "metadata": {},
   "outputs": [],
   "source": [
    "fig = go.Figure()\n",
    "\n",
    "fig.add_trace(\n",
    "    go.Bar(\n",
    "        x = word_cnt_df.index,\n",
    "        y = word_cnt_df[\"num_occ\"]\n",
    "    )\n",
    ")\n",
    "\n",
    "fig.update_layout(\n",
    "    title = \"<b>Category word count</b>\",\n",
    "    xaxis_title = \"category\",\n",
    "    yaxis_title = \"# of occurence\"\n",
    ")\n",
    "\n",
    "fig.show()"
   ]
  },
  {
   "cell_type": "markdown",
   "id": "choice-progressive",
   "metadata": {},
   "source": [
    "# EDA"
   ]
  },
  {
   "cell_type": "code",
   "execution_count": null,
   "id": "given-costs",
   "metadata": {},
   "outputs": [],
   "source": []
  }
 ],
 "metadata": {
  "kernelspec": {
   "display_name": "Python 3",
   "language": "python",
   "name": "python3"
  },
  "language_info": {
   "codemirror_mode": {
    "name": "ipython",
    "version": 3
   },
   "file_extension": ".py",
   "mimetype": "text/x-python",
   "name": "python",
   "nbconvert_exporter": "python",
   "pygments_lexer": "ipython3",
   "version": "3.8.10"
  },
  "toc": {
   "base_numbering": 1,
   "nav_menu": {},
   "number_sections": true,
   "sideBar": true,
   "skip_h1_title": false,
   "title_cell": "Table of Contents",
   "title_sidebar": "Contents",
   "toc_cell": false,
   "toc_position": {},
   "toc_section_display": true,
   "toc_window_display": false
  }
 },
 "nbformat": 4,
 "nbformat_minor": 5
}
