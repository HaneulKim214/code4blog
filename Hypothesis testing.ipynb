{
 "cells": [
  {
   "cell_type": "code",
   "execution_count": 1,
   "id": "stainless-baghdad",
   "metadata": {},
   "outputs": [],
   "source": [
    "from matplotlib import pyplot\n",
    "import numpy as np\n",
    "import pandas as pd"
   ]
  },
  {
   "cell_type": "code",
   "execution_count": 2,
   "id": "presidential-principal",
   "metadata": {},
   "outputs": [],
   "source": [
    "# for calculating power analysis for t-test with independent samples\n",
    "from statsmodels.stats.power import TTestIndPower"
   ]
  },
  {
   "cell_type": "markdown",
   "id": "ordinary-peeing",
   "metadata": {},
   "source": [
    "# Power Analysis"
   ]
  },
  {
   "cell_type": "code",
   "execution_count": null,
   "id": "affected-watts",
   "metadata": {},
   "outputs": [],
   "source": [
    "effect = 0.8\n",
    "alpha = 0.05\n",
    "power = 0.8\n",
    "\n",
    "analysis = TTestIndPower()\n",
    "result = analysis.solve_power(effect_size=effect,\n",
    "                              power=power,\n",
    "                              nobs1=None, \n",
    "                              ratio=1.0, # num_obs_2 = num_obs_1 * ratio\n",
    "                              alpha=alpha)\n",
    "\n",
    "print(f\"\"\"We need at least sample size of {round(result, 2)} to achieve \n",
    "          - power >= {power} with alpha = 0.05\n",
    "          - effect size {effect}\"\"\")"
   ]
  },
  {
   "cell_type": "code",
   "execution_count": null,
   "id": "sitting-radius",
   "metadata": {},
   "outputs": [],
   "source": [
    "analysis.plot_power(dep_var=\"nobs\",\n",
    "                    nobs=np.arange(5, 100),\n",
    "                    effect_size=np.array([0.2, 0.5, 0.8]))\n",
    "\n",
    "pyplot.show()"
   ]
  },
  {
   "cell_type": "markdown",
   "id": "dedicated-cooling",
   "metadata": {},
   "source": [
    "## Example"
   ]
  },
  {
   "cell_type": "code",
   "execution_count": 13,
   "id": "interesting-julian",
   "metadata": {},
   "outputs": [],
   "source": [
    "def calc_cohens_ds(g1_arr, g2_arr, eq_grp_size=False):\n",
    "    \"\"\"Effect size for difference between groups with unequal group size\n",
    "    \n",
    "    Parameters\n",
    "    ---------\n",
    "    g1, g2 : np.array\n",
    "    \"\"\"\n",
    "    u_1 = g1_arr.mean()\n",
    "    std_1 = g1_arr.std()\n",
    "    n1 = len(g1_arr)\n",
    "    \n",
    "    u_2 = g2_arr.mean()\n",
    "    std_2 = g2_arr.std()\n",
    "    n2 = len(g2_arr)\n",
    "    \n",
    "    if not eq_grp_size:\n",
    "        pooled_std = np.sqrt( ((n1-1)*(std_1**2) + (n2-1)*(std_2**2) ) / (n1+n2+2) )\n",
    "    else:\n",
    "        pooled_std = np.sqrt((std_1**2 + std_2**2)/2)\n",
    "    \n",
    "    d = (u_1 - u_2) / pooled_std\n",
    "    return d"
   ]
  },
  {
   "cell_type": "code",
   "execution_count": 74,
   "id": "informational-noise",
   "metadata": {},
   "outputs": [
    {
     "name": "stdout",
     "output_type": "stream",
     "text": [
      "We need at least sample size of 520642.24 to achieve \n",
      "          - power >= 0.8 with alpha = 0.05\n",
      "          - effect size -0.003932061259521132\n"
     ]
    }
   ],
   "source": [
    "effect_size = calc_cohens_ds(test_ctr, control_ctr)\n",
    "alpha = 0.05\n",
    "power = 0.8\n",
    "\n",
    "ratio = round(len(control_group)/ len(test_group), 4) # sample2 relative to sample1\n",
    "analysis = TTestIndPower()\n",
    "result = analysis.solve_power(effect_size=effect_size,\n",
    "                              power=power,\n",
    "                              nobs1=None,\n",
    "                              ratio=ratio,\n",
    "                              alpha=alpha)\n",
    "\n",
    "print(f\"\"\"We need at least sample size of {round(result, 2)} to achieve \n",
    "          - power >= {power} with alpha = 0.05\n",
    "          - effect size {effect_size}\"\"\")"
   ]
  },
  {
   "cell_type": "code",
   "execution_count": 72,
   "id": "otherwise-premium",
   "metadata": {},
   "outputs": [
    {
     "data": {
      "image/png": "[encoded data removed]",
      "text/plain": [
       "<Figure size 432x288 with 1 Axes>"
      ]
     },
     "metadata": {
      "needs_background": "light"
     },
     "output_type": "display_data"
    }
   ],
   "source": [
    "analysis.plot_power(dep_var=\"nobs\",\n",
    "                    nobs=np.arange(5, 2_000_000, 1_000),\n",
    "                    effect_size=np.array([effect_size]))\n",
    "\n",
    "pyplot.show()"
   ]
  }
 ],
 "metadata": {
  "kernelspec": {
   "display_name": "Python 3",
   "language": "python",
   "name": "python3"
  },
  "language_info": {
   "codemirror_mode": {
    "name": "ipython",
    "version": 3
   },
   "file_extension": ".py",
   "mimetype": "text/x-python",
   "name": "python",
   "nbconvert_exporter": "python",
   "pygments_lexer": "ipython3",
   "version": "3.8.10"
  },
  "toc": {
   "base_numbering": 1,
   "nav_menu": {},
   "number_sections": true,
   "sideBar": true,
   "skip_h1_title": false,
   "title_cell": "Table of Contents",
   "title_sidebar": "Contents",
   "toc_cell": false,
   "toc_position": {
    "height": "calc(100% - 180px)",
    "left": "10px",
    "top": "150px",
    "width": "165px"
   },
   "toc_section_display": true,
   "toc_window_display": false
  }
 },
 "nbformat": 4,
 "nbformat_minor": 5
}
