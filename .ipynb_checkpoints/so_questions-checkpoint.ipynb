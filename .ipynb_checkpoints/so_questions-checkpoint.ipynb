{
 "cells": [
  {
   "cell_type": "code",
   "execution_count": 1,
   "id": "golden-drink",
   "metadata": {},
   "outputs": [],
   "source": [
    "import json\n",
    "import numpy as np\n",
    "import pandas as pd"
   ]
  },
  {
   "cell_type": "code",
   "execution_count": null,
   "id": "accredited-technician",
   "metadata": {},
   "outputs": [],
   "source": [
    "df = pd.DataFrame(({\n",
    "    'A Code': [np.nan, np.nan, 'aa', 'bb'],\n",
    "    'B Code': ['bb', 'aa', 'bb', np.nan]}))"
   ]
  },
  {
   "cell_type": "code",
   "execution_count": null,
   "id": "organic-spice",
   "metadata": {},
   "outputs": [],
   "source": [
    "df"
   ]
  },
  {
   "cell_type": "code",
   "execution_count": null,
   "id": "vietnamese-ownership",
   "metadata": {},
   "outputs": [],
   "source": [
    "df[\"A Code\"] + df[\"B Code\"]"
   ]
  },
  {
   "cell_type": "code",
   "execution_count": null,
   "id": "proved-bookmark",
   "metadata": {},
   "outputs": [],
   "source": [
    "a = np.where(df[\"A Code\"].isna(), \"\", df[\"A Code\"])\n",
    "b = np.where(df[\"B Code\"].isna(), \"\", df[\"B Code\"])"
   ]
  },
  {
   "cell_type": "code",
   "execution_count": null,
   "id": "celtic-liberia",
   "metadata": {},
   "outputs": [],
   "source": [
    "df[\"Code\"] = a + b"
   ]
  },
  {
   "cell_type": "code",
   "execution_count": null,
   "id": "junior-parts",
   "metadata": {},
   "outputs": [],
   "source": [
    "df"
   ]
  },
  {
   "cell_type": "code",
   "execution_count": null,
   "id": "round-screw",
   "metadata": {},
   "outputs": [],
   "source": [
    "%%timeit\n",
    "thrs = df['col1'].mean() + 3 * df['col1'].std()\n",
    "df.loc[df['col1'] >= thrs, 'col1'] = df['col1'].mean()  "
   ]
  },
  {
   "cell_type": "code",
   "execution_count": null,
   "id": "registered-jurisdiction",
   "metadata": {},
   "outputs": [],
   "source": []
  },
  {
   "cell_type": "code",
   "execution_count": 2,
   "id": "younger-lounge",
   "metadata": {},
   "outputs": [],
   "source": [
    "df = pd.DataFrame({\"last_col\":[\"1055.000.0\", \"1055.000.0\", \"10.000.0\", \"323.0\", \"2321.3.0\"]*100})"
   ]
  },
  {
   "cell_type": "code",
   "execution_count": 7,
   "id": "capable-improvement",
   "metadata": {},
   "outputs": [
    {
     "name": "stdout",
     "output_type": "stream",
     "text": [
      "352 µs ± 4.68 µs per loop (mean ± std. dev. of 7 runs, 1000 loops each)\n"
     ]
    }
   ],
   "source": [
    "%%timeit\n",
    "df.iloc[:, -1].str[-2:]"
   ]
  },
  {
   "cell_type": "code",
   "execution_count": 9,
   "id": "acoustic-interpretation",
   "metadata": {},
   "outputs": [
    {
     "data": {
      "text/plain": [
       "<pandas.core.strings.accessor.StringMethods at 0x7f8009a89dc0>"
      ]
     },
     "execution_count": 9,
     "metadata": {},
     "output_type": "execute_result"
    }
   ],
   "source": [
    "df[\"last_col\"].str"
   ]
  },
  {
   "cell_type": "code",
   "execution_count": 8,
   "id": "popular-juvenile",
   "metadata": {},
   "outputs": [
    {
     "name": "stdout",
     "output_type": "stream",
     "text": [
      "242 µs ± 4.76 µs per loop (mean ± std. dev. of 7 runs, 1000 loops each)\n"
     ]
    }
   ],
   "source": [
    "%%timeit\n",
    "df[\"last_col\"].str[:-2]"
   ]
  }
 ],
 "metadata": {
  "kernelspec": {
   "display_name": "Python 3",
   "language": "python",
   "name": "python3"
  },
  "language_info": {
   "codemirror_mode": {
    "name": "ipython",
    "version": 3
   },
   "file_extension": ".py",
   "mimetype": "text/x-python",
   "name": "python",
   "nbconvert_exporter": "python",
   "pygments_lexer": "ipython3",
   "version": "3.8.10"
  },
  "toc": {
   "base_numbering": 1,
   "nav_menu": {},
   "number_sections": true,
   "sideBar": true,
   "skip_h1_title": false,
   "title_cell": "Table of Contents",
   "title_sidebar": "Contents",
   "toc_cell": false,
   "toc_position": {},
   "toc_section_display": true,
   "toc_window_display": false
  }
 },
 "nbformat": 4,
 "nbformat_minor": 5
}
