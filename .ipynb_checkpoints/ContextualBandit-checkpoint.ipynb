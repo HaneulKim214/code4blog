{
 "cells": [
  {
   "cell_type": "code",
   "execution_count": 1,
   "id": "heated-greeting",
   "metadata": {},
   "outputs": [],
   "source": [
    "import json\n",
    "\n",
    "import numpy as np\n",
    "import os\n",
    "import pandas as pd\n",
    "import re"
   ]
  },
  {
   "cell_type": "markdown",
   "id": "progressive-springer",
   "metadata": {},
   "source": [
    "# Introduction\n",
    "\n",
    "Goal: for each user, recommend restaurants using Contextual Bandit."
   ]
  },
  {
   "cell_type": "markdown",
   "id": "processed-setup",
   "metadata": {},
   "source": [
    "# Data Extraction & Cleansing"
   ]
  },
  {
   "cell_type": "code",
   "execution_count": 2,
   "id": "parallel-pollution",
   "metadata": {},
   "outputs": [],
   "source": [
    "def json2df(fjson):\n",
    "    data = []\n",
    "    for line in fjson:\n",
    "        data.append(json.loads(line))\n",
    "    return pd.DataFrame(data)"
   ]
  },
  {
   "cell_type": "code",
   "execution_count": 3,
   "id": "seventh-mouth",
   "metadata": {},
   "outputs": [],
   "source": [
    "business_df = json2df(open(f\"data/yelp/yelp_academic_dataset_business.json\"))\n",
    "checkin_df = json2df(open(f\"data/yelp/yelp_academic_dataset_checkin.json\"))\n",
    "tip_df = json2df(open(f\"data/yelp/yelp_academic_dataset_tip.json\"))\n",
    "user_df = json2df(open(f\"data/yelp/yelp_academic_dataset_user.json\"))"
   ]
  },
  {
   "cell_type": "code",
   "execution_count": null,
   "id": "wired-genome",
   "metadata": {},
   "outputs": [],
   "source": [
    "business_df.head()"
   ]
  },
  {
   "cell_type": "code",
   "execution_count": null,
   "id": "innovative-throw",
   "metadata": {},
   "outputs": [],
   "source": [
    "business_df.dtypes"
   ]
  },
  {
   "cell_type": "code",
   "execution_count": null,
   "id": "offensive-closer",
   "metadata": {},
   "outputs": [],
   "source": [
    "business_df.memory_usage(deep=True).sum()"
   ]
  },
  {
   "cell_type": "code",
   "execution_count": null,
   "id": "durable-spencer",
   "metadata": {},
   "outputs": [],
   "source": [
    "(business_df\n",
    " .select_dtypes(int)\n",
    " .describe())"
   ]
  },
  {
   "cell_type": "code",
   "execution_count": null,
   "id": "isolated-belle",
   "metadata": {},
   "outputs": [],
   "source": [
    "(business_df\n",
    " .astype({\"review_count\":\"int16\", \"is_open\":\"int8\", \"latitude\":\"float16\",\n",
    "          \"longitude\":\"float16\", \"stars\":\"float16\"}))"
   ]
  },
  {
   "cell_type": "code",
   "execution_count": null,
   "id": "signal-browse",
   "metadata": {},
   "outputs": [],
   "source": [
    "(business_df\n",
    " .select_dtypes(object))"
   ]
  },
  {
   "cell_type": "code",
   "execution_count": null,
   "id": "welcome-theory",
   "metadata": {},
   "outputs": [],
   "source": [
    "(business_df\n",
    " .select_dtypes(object)\n",
    " .describe())"
   ]
  },
  {
   "cell_type": "markdown",
   "id": "choice-progressive",
   "metadata": {},
   "source": [
    "# EDA"
   ]
  },
  {
   "cell_type": "code",
   "execution_count": null,
   "id": "given-costs",
   "metadata": {},
   "outputs": [],
   "source": []
  }
 ],
 "metadata": {
  "kernelspec": {
   "display_name": "Python 3",
   "language": "python",
   "name": "python3"
  },
  "language_info": {
   "codemirror_mode": {
    "name": "ipython",
    "version": 3
   },
   "file_extension": ".py",
   "mimetype": "text/x-python",
   "name": "python",
   "nbconvert_exporter": "python",
   "pygments_lexer": "ipython3",
   "version": "3.8.10"
  },
  "toc": {
   "base_numbering": 1,
   "nav_menu": {},
   "number_sections": true,
   "sideBar": true,
   "skip_h1_title": false,
   "title_cell": "Table of Contents",
   "title_sidebar": "Contents",
   "toc_cell": false,
   "toc_position": {},
   "toc_section_display": true,
   "toc_window_display": false
  }
 },
 "nbformat": 4,
 "nbformat_minor": 5
}
